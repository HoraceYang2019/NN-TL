{
 "cells": [
  {
   "cell_type": "code",
   "execution_count": 2,
   "metadata": {},
   "outputs": [
    {
     "data": {
      "text/plain": [
       "\"\\nCreated on Sun Jun  7 11:20:34 2020\\n\\nEMD: Earth Mover's Distance\\nhttps://towardsdatascience.com/earth-movers-distance-68fff0363ef2\\nKLD: Kullback-Leibler Divergence\\n\\nQuestions:\\n1. How to generate various distribution in different bins?\\n2. How to compare the differences between two distributions?\\n\""
      ]
     },
     "execution_count": 2,
     "metadata": {},
     "output_type": "execute_result"
    }
   ],
   "source": [
    "# -*- coding: utf-8 -*-\n",
    "\"\"\"\n",
    "Created on Sun Jun  7 11:20:34 2020\n",
    "\n",
    "EMD: Earth Mover's Distance\n",
    "https://towardsdatascience.com/earth-movers-distance-68fff0363ef2\n",
    "KLD: Kullback-Leibler Divergence\n",
    "\n",
    "Questions:\n",
    "1. How to generate various distribution in different bins?\n",
    "2. How to compare the differences between two distributions?\n",
    "\"\"\""
   ]
  },
  {
   "cell_type": "code",
   "execution_count": 3,
   "metadata": {},
   "outputs": [],
   "source": [
    "from scipy.stats import wasserstein_distance, entropy\n",
    "import numpy as np\n",
    "from scipy.stats import binned_statistic\n",
    "import random\n",
    "import matplotlib.pyplot as plt"
   ]
  },
  {
   "cell_type": "code",
   "execution_count": 4,
   "metadata": {},
   "outputs": [],
   "source": [
    "# 1D distribution\n",
    "np.random.seed(1)\n",
    "\n",
    "def data_gen(mode='normal', data_n=100, par1=0, par2=1, dynamic_bin=True, bin_n=10):\n",
    "    tiny = 0.00000001    \n",
    "    intervals  = np.linspace(par1 - 2*par2, par1 + 2*par2, bin_n) \n",
    "    \n",
    "    # what a data distribution will to be generated?\n",
    "    if mode == 'normal':\n",
    "        data = [np.random.normal(par1, par2) for _ in range(data_n)]\n",
    "    if mode == 'lognormal':\n",
    "        data = [random.lognormvariate(par1, par2) for _ in range(data_n)]\n",
    "    if mode =='beta':\n",
    "        data = [random.betavariate(par1, par2) for _ in range(data_n)]\n",
    "        \n",
    "    # scipy.stats.binned_statistic(x, values, statistic='mean', bins=10, range=None)\n",
    "    if dynamic_bin == True:\n",
    "        # using dynamic bin interval\n",
    "        bins = binned_statistic(data, data,'count', bins = intervals)\n",
    "    else:\n",
    "        # using a fixed bin number\n",
    "        bins = binned_statistic(data, data,'count', bins = bin_n)\n",
    "    dist = bins[0]/data_n # let sum of dist = 1 \n",
    "    dist[dist < tiny] = tiny # avoid nan\n",
    "    return data, dist"
   ]
  },
  {
   "cell_type": "code",
   "execution_count": 5,
   "metadata": {},
   "outputs": [
    {
     "data": {
      "text/plain": [
       "(array([ 3.,  0.,  1.,  3.,  7., 13., 14., 10., 15.,  9., 11.,  6.,  2.,\n",
       "         4.,  2.]),\n",
       " array([-0.38092322, -0.20143865, -0.02195409,  0.15753047,  0.33701504,\n",
       "         0.5164996 ,  0.69598417,  0.87546873,  1.05495329,  1.23443786,\n",
       "         1.41392242,  1.59340699,  1.77289155,  1.95237612,  2.13186068,\n",
       "         2.31134524]),\n",
       " <a list of 15 Patch objects>)"
      ]
     },
     "execution_count": 5,
     "metadata": {},
     "output_type": "execute_result"
    },
    {
     "data": {
      "image/png": "[encoded data removed]",
      "text/plain": [
       "<Figure size 432x288 with 1 Axes>"
      ]
     },
     "metadata": {
      "needs_background": "light"
     },
     "output_type": "display_data"
    }
   ],
   "source": [
    "# generate first historgram\n",
    "bin_number = 15\n",
    "plt.subplot(1,2,1)\n",
    "mu = 1; sigma =0.6\n",
    "x, px = data_gen(mode='normal', data_n=100, par1=mu, par2=sigma, dynamic_bin=True, bin_n=bin_number)\n",
    "plt.hist(x,bin_number)"
   ]
  },
  {
   "cell_type": "code",
   "execution_count": 6,
   "metadata": {},
   "outputs": [
    {
     "data": {
      "text/plain": [
       "(array([ 1.,  2.,  2.,  7.,  4.,  6., 13., 13., 18., 16.,  7.,  5.,  1.,\n",
       "         4.,  1.]),\n",
       " array([-0.46090266, -0.26237612, -0.06384958,  0.13467696,  0.3332035 ,\n",
       "         0.53173004,  0.73025657,  0.92878311,  1.12730965,  1.32583619,\n",
       "         1.52436273,  1.72288927,  1.92141581,  2.11994235,  2.31846889,\n",
       "         2.51699542]),\n",
       " <a list of 15 Patch objects>)"
      ]
     },
     "execution_count": 6,
     "metadata": {},
     "output_type": "execute_result"
    },
    {
     "data": {
      "image/png": "[encoded data removed]",
      "text/plain": [
       "<Figure size 432x288 with 1 Axes>"
      ]
     },
     "metadata": {
      "needs_background": "light"
     },
     "output_type": "display_data"
    }
   ],
   "source": [
    "# generate first historgram\n",
    "bin_number = 15\n",
    "plt.subplot(1,2,1)\n",
    "mu = 1; sigma =0.6\n",
    "x, px = data_gen(mode='normal', data_n=100, par1=mu, par2=sigma, dynamic_bin=False, bin_n=bin_number)\n",
    "plt.hist(x,bin_number)"
   ]
  },
  {
   "cell_type": "code",
   "execution_count": 10,
   "metadata": {},
   "outputs": [
    {
     "data": {
      "image/png": "[encoded data removed]",
      "text/plain": [
       "<Figure size 432x288 with 1 Axes>"
      ]
     },
     "metadata": {
      "needs_background": "light"
     },
     "output_type": "display_data"
    }
   ],
   "source": [
    "# generate second historgram\n",
    "plt.subplot(1,2,2)\n",
    "mu = 0.5; sigma =0.8\n",
    "y, py = data_gen(mode='beta', data_n=250, par1=mu, par2=sigma, dynamic_bin=False, bin_n=bin_number)\n",
    "y, py = data_gen(mode='normal', data_n=120, par1=-0.5, par2=0.8, dynamic_bin=False, bin_n=bin_number)\n",
    "plt.hist(y,bin_number)\n",
    "plt.show()"
   ]
  },
  {
   "cell_type": "code",
   "execution_count": 11,
   "metadata": {},
   "outputs": [
    {
     "name": "stdout",
     "output_type": "stream",
     "text": [
      "KLD: 0.6888919709870279\n"
     ]
    }
   ],
   "source": [
    "# KL = 0.0\n",
    "# for i in range(10):\n",
    "#     KL += px[i] * np.log(px[i] / py[i])\n",
    "#     # print(str(px[i]) + ' ' + str(py[i]) + ' ' + str(px[i] * np.log(px[i] / py[i])))\n",
    "# print(KL)\n",
    "print('KLD:', entropy(px, py))"
   ]
  },
  {
   "cell_type": "markdown",
   "metadata": {},
   "source": [
    "度量機率分佈$ p_x\\left(i\\right) $ 到任意機率分佈$ p_y\\left(i\\right)$之間的差異\n",
    "$D_{KL}(X|\\left|Y\\right)=\\sum{p_x(i)\\ln\\frac{p_y\\left(i\\right)}{p_x\\left(i\\right)}}$"
   ]
  },
  {
   "cell_type": "code",
   "execution_count": 12,
   "metadata": {},
   "outputs": [
    {
     "name": "stdout",
     "output_type": "stream",
     "text": [
      "equal weights of EMD: 0.011333332666666668\n"
     ]
    }
   ],
   "source": [
    "# scipy.stats.wasserstein_distance(u_values, v_values, u_weights=None, v_weights=None)\n",
    "# d = wasserstein_distance([3.4, 3.9, 7.5, 7.8], [4.5, 1.4],[1.4, 0.9, 3.1, 7.2], [3.2, 3.5])\n",
    "#data 1: [3.4, 3.9, 7.5, 7.8] with weigthts = [1.4, 0.9, 3.1, 7.2]；\n",
    "#data 2: [4.5, 1.4] with weights = [3.2, 3.5]\n",
    "print('equal weights of EMD:', wasserstein_distance(px, py)) "
   ]
  },
  {
   "cell_type": "code",
   "execution_count": 31,
   "metadata": {},
   "outputs": [
    {
     "name": "stdout",
     "output_type": "stream",
     "text": [
      "various weights of EMD: 6.993974053014054\n"
     ]
    }
   ],
   "source": [
    "weights = [10,5,2,1,1,1,2,5,10]\n",
    "print('various weights of EMD:', wasserstein_distance(px,weights, py,weights))"
   ]
  }
 ],
 "metadata": {
  "kernelspec": {
   "display_name": "Python 3",
   "language": "python",
   "name": "python3"
  },
  "language_info": {
   "codemirror_mode": {
    "name": "ipython",
    "version": 3
   },
   "file_extension": ".py",
   "mimetype": "text/x-python",
   "name": "python",
   "nbconvert_exporter": "python",
   "pygments_lexer": "ipython3",
   "version": "3.7.3"
  }
 },
 "nbformat": 4,
 "nbformat_minor": 4
}
