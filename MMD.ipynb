{
 "cells": [
  {
   "cell_type": "code",
   "execution_count": 2,
   "metadata": {},
   "outputs": [
    {
     "data": {
      "text/plain": [
       "'\\nCreated on Sun Jun  7 10:35:02 2020\\nhttps://blog.csdn.net/a529975125/java/article/details/81176029\\n@author: ASUS\\n'"
      ]
     },
     "execution_count": 2,
     "metadata": {},
     "output_type": "execute_result"
    }
   ],
   "source": [
    "# -*- coding: utf-8 -*-\n",
    "\"\"\"\n",
    "Created on Sun Jun  7 10:35:02 2020\n",
    "https://blog.csdn.net/a529975125/java/article/details/81176029\n",
    "@author: ASUS\n",
    "\"\"\""
   ]
  },
  {
   "cell_type": "markdown",
   "metadata": {},
   "source": [
    "<img src=\"Jupyter/mmd.jpg\">"
   ]
  },
  {
   "cell_type": "code",
   "execution_count": 8,
   "metadata": {},
   "outputs": [],
   "source": [
    "import torch\n",
    "# In[1]\n",
    "\n",
    "def guassian_kernel(source, target, kernel_mul=2.0, kernel_num=5, fix_sigma=None):\n",
    "    '''\n",
    "    Params: \n",
    "\t    source: source n * len(x)\n",
    "\t    target: m * len(y)\n",
    "\t    kernel_mul: \n",
    "\t    kernel_num: number of kernel function\n",
    "\t    fix_sigma: sigma value of different kernels\n",
    "\tReturn:\n",
    "\t\tsum(kernel_val): sum of multi-kernel\n",
    "    '''\n",
    "    n_samples = int(source.size()[0])+int(target.size()[0])# derive column no. of matrix \n",
    "    total = torch.cat([source, target], dim=0) # merge source and target\n",
    "    # duplicate total（n+m）copies\n",
    "    total0 = total.unsqueeze(0).expand(int(total.size(0)), int(total.size(0)), int(total.size(1)))\n",
    "    \n",
    "    # exptend each column of total with (n+m) copies\n",
    "    total1 = total.unsqueeze(1).expand(int(total.size(0)), int(total.size(0)), int(total.size(1)))\n",
    "    \n",
    "    # derive sum of the two totals, （i,j）of total represents its l2 distance\n",
    "    L2_distance = ((total0-total1)**2).sum(2) \n",
    "    \n",
    "    # modify sigma value of kernel\n",
    "    if fix_sigma:\n",
    "        bandwidth = fix_sigma\n",
    "    else:\n",
    "        bandwidth = torch.sum(L2_distance.data) / (n_samples**2-n_samples)\n",
    "        \n",
    "    # average intervals are the default values\n",
    "    bandwidth /= kernel_mul ** (kernel_num // 2)\n",
    "    bandwidth_list = [bandwidth * (kernel_mul**i) for i in range(kernel_num)]\n",
    "    \n",
    "    # Guassian kernel \n",
    "    kernel_val = [torch.exp(-L2_distance / bandwidth_temp) for bandwidth_temp in bandwidth_list]\n",
    "    \n",
    "    return sum(kernel_val)#/len(kernel_val)"
   ]
  },
  {
   "cell_type": "code",
   "execution_count": 9,
   "metadata": {},
   "outputs": [],
   "source": [
    "def mmd_rbf(source, target, kernel_mul=2.0, kernel_num=5, fix_sigma=None):\n",
    "    '''\n",
    "    Calculate the MMD between source and target domains\n",
    "    Params: \n",
    "\t    source: source data (n * len(x))\n",
    "\t    target: target data（m * len(y))\n",
    "\t    kernel_mul: \n",
    "\t    kernel_num: number of kernels\n",
    "\t    fix_sigma: sigma values of kernels\n",
    "\tReturn:\n",
    "\t\tloss: MMD loss\n",
    "    '''\n",
    "    batch_size = int(source.size()[0]) # the same batch sizes of source and target as default\n",
    "    kernels = guassian_kernel(source, target,\n",
    "        kernel_mul=kernel_mul, kernel_num=kernel_num, fix_sigma=fix_sigma)\n",
    "    \n",
    "    # diveide matrix into 4 parts\n",
    "    XX = kernels[:batch_size, :batch_size]\n",
    "    YY = kernels[batch_size:, batch_size:]\n",
    "    XY = kernels[:batch_size, batch_size:]\n",
    "    YX = kernels[batch_size:, :batch_size]\n",
    "    loss = torch.mean(XX + YY - XY -YX)\n",
    "    \n",
    "    return loss #assume n==m"
   ]
  },
  {
   "cell_type": "code",
   "execution_count": 10,
   "metadata": {},
   "outputs": [
    {
     "data": {
      "image/png": "[encoded data removed]",
      "text/plain": [
       "<Figure size 432x288 with 2 Axes>"
      ]
     },
     "metadata": {
      "needs_background": "light"
     },
     "output_type": "display_data"
    }
   ],
   "source": [
    "# In[2]\n",
    "import random\n",
    "import matplotlib.pyplot as plt\n",
    "\n",
    "SAMPLE_SIZE = 100\n",
    "buckets = 15\n",
    "\n",
    "# lognormal distribution \n",
    "plt.subplot(1,2,1)\n",
    "plt.xlabel(\"random.lognormalvariate\")\n",
    "mu = 1\n",
    "sigma = 0.6\n",
    "res1 = [random.lognormvariate(mu, sigma) for _ in range(1, SAMPLE_SIZE)]\n",
    "#res1 = [random.normalvariate(mu, sigma) for _ in range(1, SAMPLE_SIZE)]\n",
    "plt.hist(res1, buckets)\n",
    "\n",
    "# Beta Distribution with parameters alpha and beta > 0\n",
    "plt.subplot(1,2,2)\n",
    "plt.xlabel(\"random.betavariate\")\n",
    "alpha = 1\n",
    "beta = 10\n",
    "res2 = [random.betavariate(alpha, beta) for _ in range(1, SAMPLE_SIZE)]\n",
    "plt.hist(res2, buckets)\n",
    "\n",
    "plt.savefig('data.jpg')\n",
    "plt.show()"
   ]
  },
  {
   "cell_type": "code",
   "execution_count": 12,
   "metadata": {},
   "outputs": [
    {
     "name": "stdout",
     "output_type": "stream",
     "text": [
      "tensor(3.3911)\n"
     ]
    }
   ],
   "source": [
    "# In[]\n",
    "from torch.autograd import Variable\n",
    "\n",
    "diff_1 = []\n",
    "for i in range(10):\n",
    "    #diff_1.append([random.lognormvariate(mu, sigma) for _ in range(1, SAMPLE_SIZE)])\n",
    "    diff_1.append([random.normalvariate(1, 0.6) for _ in range(1, SAMPLE_SIZE)])\n",
    "\n",
    "diff_2 = []\n",
    "for i in range(10):\n",
    "    #diff_2.append([random.lognormvariate(mu, sigma) for _ in range(1, SAMPLE_SIZE)])\n",
    "    #diff_2.append([random.betavariate(alpha, beta) for _ in range(1, SAMPLE_SIZE)])\n",
    "    diff_2.append([random.normalvariate(-0.5, 0.8) for _ in range(1, SAMPLE_SIZE)])\n",
    "    \n",
    "X = torch.Tensor(diff_1)\n",
    "Y = torch.Tensor(diff_2)\n",
    "X,Y = Variable(X), Variable(Y)\n",
    "print (mmd_rbf(X,Y))"
   ]
  },
  {
   "cell_type": "code",
   "execution_count": null,
   "metadata": {},
   "outputs": [],
   "source": []
  }
 ],
 "metadata": {
  "kernelspec": {
   "display_name": "Python 3",
   "language": "python",
   "name": "python3"
  },
  "language_info": {
   "codemirror_mode": {
    "name": "ipython",
    "version": 3
   },
   "file_extension": ".py",
   "mimetype": "text/x-python",
   "name": "python",
   "nbconvert_exporter": "python",
   "pygments_lexer": "ipython3",
   "version": "3.7.3"
  }
 },
 "nbformat": 4,
 "nbformat_minor": 4
}
